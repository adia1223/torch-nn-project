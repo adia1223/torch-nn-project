{
 "cells": [
  {
   "cell_type": "code",
   "execution_count": 1,
   "metadata": {
    "ExecuteTime": {
     "end_time": "2020-05-19T20:41:39.624486Z",
     "start_time": "2020-05-19T20:41:39.618198Z"
    }
   },
   "outputs": [],
   "source": [
    "train_file = r'D:\\datasets_archive\\google-landmarks-dataset-full\\train.csv'\n",
    "test_file = r'D:\\datasets_archive\\google-landmarks-dataset-full\\test.csv'\n",
    "index_file = r'D:\\datasets_archive\\google-landmarks-dataset-full\\index.csv'"
   ]
  },
  {
   "cell_type": "code",
   "execution_count": 2,
   "metadata": {
    "ExecuteTime": {
     "end_time": "2020-05-19T20:41:40.351250Z",
     "start_time": "2020-05-19T20:41:39.628574Z"
    }
   },
   "outputs": [],
   "source": [
    "import pandas as pd"
   ]
  },
  {
   "cell_type": "code",
   "execution_count": 3,
   "metadata": {
    "ExecuteTime": {
     "end_time": "2020-05-19T20:41:45.616264Z",
     "start_time": "2020-05-19T20:41:40.354216Z"
    }
   },
   "outputs": [],
   "source": [
    "train_df = pd.read_csv(train_file)\n",
    "test_df = pd.read_csv(test_file)\n",
    "index_df = pd.read_csv(index_file)"
   ]
  },
  {
   "cell_type": "code",
   "execution_count": 4,
   "metadata": {
    "ExecuteTime": {
     "end_time": "2020-05-19T20:41:46.046698Z",
     "start_time": "2020-05-19T20:41:45.618225Z"
    }
   },
   "outputs": [],
   "source": [
    "train_df = train_df[train_df.url != 'None']\n",
    "train_df = train_df[train_df.landmark_id != 'None']"
   ]
  },
  {
   "cell_type": "code",
   "execution_count": 5,
   "metadata": {
    "ExecuteTime": {
     "end_time": "2020-05-19T20:41:46.067492Z",
     "start_time": "2020-05-19T20:41:46.048945Z"
    },
    "scrolled": true
   },
   "outputs": [
    {
     "data": {
      "text/html": [
       "<div>\n",
       "<style scoped>\n",
       "    .dataframe tbody tr th:only-of-type {\n",
       "        vertical-align: middle;\n",
       "    }\n",
       "\n",
       "    .dataframe tbody tr th {\n",
       "        vertical-align: top;\n",
       "    }\n",
       "\n",
       "    .dataframe thead th {\n",
       "        text-align: right;\n",
       "    }\n",
       "</style>\n",
       "<table border=\"1\" class=\"dataframe\">\n",
       "  <thead>\n",
       "    <tr style=\"text-align: right;\">\n",
       "      <th></th>\n",
       "      <th>id</th>\n",
       "      <th>url</th>\n",
       "      <th>landmark_id</th>\n",
       "    </tr>\n",
       "  </thead>\n",
       "  <tbody>\n",
       "    <tr>\n",
       "      <th>0</th>\n",
       "      <td>97c0a12e07ae8dd5</td>\n",
       "      <td>http://lh4.ggpht.com/-f8xYA5l4apw/RSziSQVaABI/...</td>\n",
       "      <td>6347</td>\n",
       "    </tr>\n",
       "    <tr>\n",
       "      <th>1</th>\n",
       "      <td>650c989dd3493748</td>\n",
       "      <td>https://lh5.googleusercontent.com/-PUnMrX7oOyA...</td>\n",
       "      <td>12519</td>\n",
       "    </tr>\n",
       "    <tr>\n",
       "      <th>2</th>\n",
       "      <td>05e63ca9b2cde1f4</td>\n",
       "      <td>http://mw2.google.com/mw-panoramio/photos/medi...</td>\n",
       "      <td>264</td>\n",
       "    </tr>\n",
       "    <tr>\n",
       "      <th>3</th>\n",
       "      <td>08672eddcb2b7c93</td>\n",
       "      <td>http://lh3.ggpht.com/-9fgSxDYwhHA/SMvGEoltKTI/...</td>\n",
       "      <td>13287</td>\n",
       "    </tr>\n",
       "    <tr>\n",
       "      <th>4</th>\n",
       "      <td>fc49cb32ef7f1e89</td>\n",
       "      <td>http://lh6.ggpht.com/-UGAXxvPbr98/S-jGZbyMIPI/...</td>\n",
       "      <td>4018</td>\n",
       "    </tr>\n",
       "  </tbody>\n",
       "</table>\n",
       "</div>"
      ],
      "text/plain": [
       "                 id                                                url  \\\n",
       "0  97c0a12e07ae8dd5  http://lh4.ggpht.com/-f8xYA5l4apw/RSziSQVaABI/...   \n",
       "1  650c989dd3493748  https://lh5.googleusercontent.com/-PUnMrX7oOyA...   \n",
       "2  05e63ca9b2cde1f4  http://mw2.google.com/mw-panoramio/photos/medi...   \n",
       "3  08672eddcb2b7c93  http://lh3.ggpht.com/-9fgSxDYwhHA/SMvGEoltKTI/...   \n",
       "4  fc49cb32ef7f1e89  http://lh6.ggpht.com/-UGAXxvPbr98/S-jGZbyMIPI/...   \n",
       "\n",
       "  landmark_id  \n",
       "0        6347  \n",
       "1       12519  \n",
       "2         264  \n",
       "3       13287  \n",
       "4        4018  "
      ]
     },
     "execution_count": 5,
     "metadata": {},
     "output_type": "execute_result"
    }
   ],
   "source": [
    "train_df.head() "
   ]
  },
  {
   "cell_type": "code",
   "execution_count": 6,
   "metadata": {
    "ExecuteTime": {
     "end_time": "2020-05-19T20:41:46.221164Z",
     "start_time": "2020-05-19T20:41:46.070411Z"
    }
   },
   "outputs": [
    {
     "data": {
      "text/plain": [
       "14947"
      ]
     },
     "execution_count": 6,
     "metadata": {},
     "output_type": "execute_result"
    }
   ],
   "source": [
    "train_ids = set(train_df['landmark_id'])\n",
    "\n",
    "len(train_ids)"
   ]
  },
  {
   "cell_type": "code",
   "execution_count": 7,
   "metadata": {
    "ExecuteTime": {
     "end_time": "2020-05-19T20:41:46.391236Z",
     "start_time": "2020-05-19T20:41:46.225591Z"
    }
   },
   "outputs": [
    {
     "data": {
      "text/plain": [
       "9633     49525\n",
       "6051     49306\n",
       "6599     22811\n",
       "9779     18096\n",
       "2061     13020\n",
       "5554     10819\n",
       "6651      9307\n",
       "5376      9061\n",
       "6696      9050\n",
       "4352      8839\n",
       "2743      8838\n",
       "13526     8525\n",
       "1553      7664\n",
       "10900     6838\n",
       "8063      6496\n",
       "8429      6329\n",
       "4987      5262\n",
       "12220     5197\n",
       "11784     5135\n",
       "2949      4822\n",
       "12718     3684\n",
       "3804      3621\n",
       "10184     3495\n",
       "7092      3447\n",
       "10045     3365\n",
       "2338      3359\n",
       "12172     3301\n",
       "3924      3293\n",
       "428       3097\n",
       "9029      2540\n",
       "         ...  \n",
       "1546      1157\n",
       "9999      1148\n",
       "4644      1139\n",
       "7420      1135\n",
       "3426      1126\n",
       "9605      1121\n",
       "4954      1121\n",
       "5475      1120\n",
       "6597      1114\n",
       "3065      1102\n",
       "1310      1086\n",
       "11536     1079\n",
       "5421      1073\n",
       "12966     1071\n",
       "5166      1066\n",
       "12647     1064\n",
       "6347      1052\n",
       "10005     1049\n",
       "10644     1044\n",
       "2145      1039\n",
       "9296      1035\n",
       "7840      1029\n",
       "5618      1026\n",
       "6846      1021\n",
       "3034      1020\n",
       "10496     1019\n",
       "5206      1005\n",
       "13471     1004\n",
       "2246       990\n",
       "12965      984\n",
       "Name: landmark_id, Length: 115, dtype: int64"
      ]
     },
     "execution_count": 7,
     "metadata": {},
     "output_type": "execute_result"
    }
   ],
   "source": [
    "train_counts = train_df['landmark_id'].value_counts()\n",
    "    \n",
    "train_counts.head(115)"
   ]
  },
  {
   "cell_type": "code",
   "execution_count": 8,
   "metadata": {
    "ExecuteTime": {
     "end_time": "2020-05-19T20:41:46.402640Z",
     "start_time": "2020-05-19T20:41:46.394369Z"
    }
   },
   "outputs": [
    {
     "data": {
      "text/plain": [
       "9563     1\n",
       "12174    1\n",
       "11214    1\n",
       "5575     1\n",
       "4058     1\n",
       "Name: landmark_id, dtype: int64"
      ]
     },
     "execution_count": 8,
     "metadata": {},
     "output_type": "execute_result"
    }
   ],
   "source": [
    "train_counts.tail()"
   ]
  },
  {
   "cell_type": "code",
   "execution_count": 9,
   "metadata": {
    "ExecuteTime": {
     "end_time": "2020-05-19T20:41:46.421555Z",
     "start_time": "2020-05-19T20:41:46.404305Z"
    }
   },
   "outputs": [
    {
     "data": {
      "text/plain": [
       "5     1292\n",
       "4     1038\n",
       "6      954\n",
       "7      746\n",
       "3      669\n",
       "8      543\n",
       "9      500\n",
       "10     396\n",
       "11     325\n",
       "2      324\n",
       "12     284\n",
       "13     274\n",
       "14     235\n",
       "16     220\n",
       "15     220\n",
       "17     184\n",
       "18     178\n",
       "1      176\n",
       "22     169\n",
       "20     159\n",
       "19     158\n",
       "21     150\n",
       "23     142\n",
       "24     141\n",
       "25     133\n",
       "Name: landmark_id, dtype: int64"
      ]
     },
     "execution_count": 9,
     "metadata": {},
     "output_type": "execute_result"
    }
   ],
   "source": [
    "number_of_samples_stat = train_counts.value_counts()\n",
    "number_of_samples_stat.head(25)"
   ]
  },
  {
   "cell_type": "code",
   "execution_count": 10,
   "metadata": {
    "ExecuteTime": {
     "end_time": "2020-05-19T20:41:46.437496Z",
     "start_time": "2020-05-19T20:41:46.426492Z"
    }
   },
   "outputs": [
    {
     "data": {
      "text/plain": [
       "113"
      ]
     },
     "execution_count": 10,
     "metadata": {},
     "output_type": "execute_result"
    }
   ],
   "source": [
    "MAX_SAMPLES = 200000\n",
    "MIN_SAMPLES = 1000\n",
    "\n",
    "filtered_ids = set(train_counts[(train_counts <= MAX_SAMPLES) & (train_counts >= MIN_SAMPLES)].index)\n",
    "len(filtered_ids)"
   ]
  },
  {
   "cell_type": "code",
   "execution_count": 11,
   "metadata": {
    "ExecuteTime": {
     "end_time": "2020-05-19T20:41:46.547826Z",
     "start_time": "2020-05-19T20:41:46.440515Z"
    }
   },
   "outputs": [
    {
     "data": {
      "text/plain": [
       "412491"
      ]
     },
     "execution_count": 11,
     "metadata": {},
     "output_type": "execute_result"
    }
   ],
   "source": [
    "filtered_train_df = train_df[train_df['landmark_id'].isin(filtered_ids)]\n",
    "\n",
    "len(filtered_train_df)"
   ]
  },
  {
   "cell_type": "code",
   "execution_count": 12,
   "metadata": {
    "ExecuteTime": {
     "end_time": "2020-05-19T20:41:46.559529Z",
     "start_time": "2020-05-19T20:41:46.549922Z"
    }
   },
   "outputs": [
    {
     "data": {
      "text/html": [
       "<div>\n",
       "<style scoped>\n",
       "    .dataframe tbody tr th:only-of-type {\n",
       "        vertical-align: middle;\n",
       "    }\n",
       "\n",
       "    .dataframe tbody tr th {\n",
       "        vertical-align: top;\n",
       "    }\n",
       "\n",
       "    .dataframe thead th {\n",
       "        text-align: right;\n",
       "    }\n",
       "</style>\n",
       "<table border=\"1\" class=\"dataframe\">\n",
       "  <thead>\n",
       "    <tr style=\"text-align: right;\">\n",
       "      <th></th>\n",
       "      <th>id</th>\n",
       "      <th>url</th>\n",
       "      <th>landmark_id</th>\n",
       "    </tr>\n",
       "  </thead>\n",
       "  <tbody>\n",
       "    <tr>\n",
       "      <th>0</th>\n",
       "      <td>97c0a12e07ae8dd5</td>\n",
       "      <td>http://lh4.ggpht.com/-f8xYA5l4apw/RSziSQVaABI/...</td>\n",
       "      <td>6347</td>\n",
       "    </tr>\n",
       "    <tr>\n",
       "      <th>5</th>\n",
       "      <td>056708de792326b9</td>\n",
       "      <td>https://lh3.googleusercontent.com/-nbz_XT1dGz4...</td>\n",
       "      <td>5046</td>\n",
       "    </tr>\n",
       "    <tr>\n",
       "      <th>6</th>\n",
       "      <td>6ae1e206c579f649</td>\n",
       "      <td>https://lh6.googleusercontent.com/-onL5-pK9nZI...</td>\n",
       "      <td>5554</td>\n",
       "    </tr>\n",
       "    <tr>\n",
       "      <th>7</th>\n",
       "      <td>7b1e476a7c89bb34</td>\n",
       "      <td>http://lh5.ggpht.com/-3GWjPriaA9g/Sg3e_S0qEgI/...</td>\n",
       "      <td>12220</td>\n",
       "    </tr>\n",
       "    <tr>\n",
       "      <th>11</th>\n",
       "      <td>675e1bb968bc5150</td>\n",
       "      <td>http://lh3.ggpht.com/-3bysCvkJIBs/Tnf_HqJhFaI/...</td>\n",
       "      <td>5554</td>\n",
       "    </tr>\n",
       "  </tbody>\n",
       "</table>\n",
       "</div>"
      ],
      "text/plain": [
       "                  id                                                url  \\\n",
       "0   97c0a12e07ae8dd5  http://lh4.ggpht.com/-f8xYA5l4apw/RSziSQVaABI/...   \n",
       "5   056708de792326b9  https://lh3.googleusercontent.com/-nbz_XT1dGz4...   \n",
       "6   6ae1e206c579f649  https://lh6.googleusercontent.com/-onL5-pK9nZI...   \n",
       "7   7b1e476a7c89bb34  http://lh5.ggpht.com/-3GWjPriaA9g/Sg3e_S0qEgI/...   \n",
       "11  675e1bb968bc5150  http://lh3.ggpht.com/-3bysCvkJIBs/Tnf_HqJhFaI/...   \n",
       "\n",
       "   landmark_id  \n",
       "0         6347  \n",
       "5         5046  \n",
       "6         5554  \n",
       "7        12220  \n",
       "11        5554  "
      ]
     },
     "execution_count": 12,
     "metadata": {},
     "output_type": "execute_result"
    }
   ],
   "source": [
    "filtered_train_df.head()"
   ]
  },
  {
   "cell_type": "code",
   "execution_count": 13,
   "metadata": {
    "ExecuteTime": {
     "end_time": "2020-05-19T20:41:46.596373Z",
     "start_time": "2020-05-19T20:41:46.561860Z"
    }
   },
   "outputs": [
    {
     "data": {
      "text/html": [
       "<div>\n",
       "<style scoped>\n",
       "    .dataframe tbody tr th:only-of-type {\n",
       "        vertical-align: middle;\n",
       "    }\n",
       "\n",
       "    .dataframe tbody tr th {\n",
       "        vertical-align: top;\n",
       "    }\n",
       "\n",
       "    .dataframe thead th {\n",
       "        text-align: right;\n",
       "    }\n",
       "</style>\n",
       "<table border=\"1\" class=\"dataframe\">\n",
       "  <thead>\n",
       "    <tr style=\"text-align: right;\">\n",
       "      <th></th>\n",
       "      <th>id</th>\n",
       "      <th>url</th>\n",
       "      <th>landmark_id</th>\n",
       "    </tr>\n",
       "  </thead>\n",
       "  <tbody>\n",
       "    <tr>\n",
       "      <th>7000</th>\n",
       "      <td>e55445b7fdec3eb8</td>\n",
       "      <td>http://lh4.ggpht.com/-L8O8AuUh2qw/TLBv0zJsMwI/...</td>\n",
       "      <td>2061</td>\n",
       "    </tr>\n",
       "    <tr>\n",
       "      <th>461895</th>\n",
       "      <td>18a619ca052ab91e</td>\n",
       "      <td>http://lh3.ggpht.com/-hG7w6kgRTaw/TWfR6HFr1XI/...</td>\n",
       "      <td>5460</td>\n",
       "    </tr>\n",
       "    <tr>\n",
       "      <th>584428</th>\n",
       "      <td>789e5c2e2d3dc17a</td>\n",
       "      <td>https://lh5.googleusercontent.com/-8lz5Dv4BQFo...</td>\n",
       "      <td>6599</td>\n",
       "    </tr>\n",
       "    <tr>\n",
       "      <th>281430</th>\n",
       "      <td>beb78fc1f140b728</td>\n",
       "      <td>http://lh3.ggpht.com/-sHm-auRX11g/RhrIdSkTjTI/...</td>\n",
       "      <td>2743</td>\n",
       "    </tr>\n",
       "    <tr>\n",
       "      <th>704418</th>\n",
       "      <td>4d550783394ede1e</td>\n",
       "      <td>http://lh5.ggpht.com/-qD7c_L4ZScM/RrTkhhy6NgI/...</td>\n",
       "      <td>2743</td>\n",
       "    </tr>\n",
       "  </tbody>\n",
       "</table>\n",
       "</div>"
      ],
      "text/plain": [
       "                      id                                                url  \\\n",
       "7000    e55445b7fdec3eb8  http://lh4.ggpht.com/-L8O8AuUh2qw/TLBv0zJsMwI/...   \n",
       "461895  18a619ca052ab91e  http://lh3.ggpht.com/-hG7w6kgRTaw/TWfR6HFr1XI/...   \n",
       "584428  789e5c2e2d3dc17a  https://lh5.googleusercontent.com/-8lz5Dv4BQFo...   \n",
       "281430  beb78fc1f140b728  http://lh3.ggpht.com/-sHm-auRX11g/RhrIdSkTjTI/...   \n",
       "704418  4d550783394ede1e  http://lh5.ggpht.com/-qD7c_L4ZScM/RrTkhhy6NgI/...   \n",
       "\n",
       "       landmark_id  \n",
       "7000          2061  \n",
       "461895        5460  \n",
       "584428        6599  \n",
       "281430        2743  \n",
       "704418        2743  "
      ]
     },
     "execution_count": 13,
     "metadata": {},
     "output_type": "execute_result"
    }
   ],
   "source": [
    "ROWS_NUM = int(1.0 * (10 ** 4))\n",
    "\n",
    "subset_df = filtered_train_df.sample(n=ROWS_NUM, random_state=282)\n",
    "\n",
    "subset_df.head()"
   ]
  },
  {
   "cell_type": "code",
   "execution_count": 14,
   "metadata": {
    "ExecuteTime": {
     "end_time": "2020-05-19T20:41:46.603286Z",
     "start_time": "2020-05-19T20:41:46.597319Z"
    }
   },
   "outputs": [
    {
     "data": {
      "text/plain": [
       "10000"
      ]
     },
     "execution_count": 14,
     "metadata": {},
     "output_type": "execute_result"
    }
   ],
   "source": [
    "len(subset_df['landmark_id'])"
   ]
  },
  {
   "cell_type": "code",
   "execution_count": 15,
   "metadata": {
    "ExecuteTime": {
     "end_time": "2020-05-19T20:41:46.666575Z",
     "start_time": "2020-05-19T20:41:46.606214Z"
    }
   },
   "outputs": [],
   "source": [
    "FILTERED_TRAIN_FILE = r'C:\\datasets\\google-landmarks\\train\\filtered_train_selfsupervision.csv'\n",
    "\n",
    "subset_df.to_csv(FILTERED_TRAIN_FILE, index=False)"
   ]
  }
 ],
 "metadata": {
  "kernelspec": {
   "display_name": "Python 3",
   "language": "python",
   "name": "python3"
  },
  "language_info": {
   "codemirror_mode": {
    "name": "ipython",
    "version": 3
   },
   "file_extension": ".py",
   "mimetype": "text/x-python",
   "name": "python",
   "nbconvert_exporter": "python",
   "pygments_lexer": "ipython3",
   "version": "3.7.3"
  },
  "varInspector": {
   "cols": {
    "lenName": 16,
    "lenType": 16,
    "lenVar": 40
   },
   "kernels_config": {
    "python": {
     "delete_cmd_postfix": "",
     "delete_cmd_prefix": "del ",
     "library": "var_list.py",
     "varRefreshCmd": "print(var_dic_list())"
    },
    "r": {
     "delete_cmd_postfix": ") ",
     "delete_cmd_prefix": "rm(",
     "library": "var_list.r",
     "varRefreshCmd": "cat(var_dic_list()) "
    }
   },
   "types_to_exclude": [
    "module",
    "function",
    "builtin_function_or_method",
    "instance",
    "_Feature"
   ],
   "window_display": false
  }
 },
 "nbformat": 4,
 "nbformat_minor": 2
}
