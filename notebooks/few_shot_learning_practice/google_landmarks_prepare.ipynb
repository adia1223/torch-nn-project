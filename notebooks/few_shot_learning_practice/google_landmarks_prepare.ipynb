{
 "cells": [
  {
   "cell_type": "code",
   "execution_count": 1,
   "metadata": {
    "ExecuteTime": {
     "end_time": "2020-05-04T16:16:33.289075Z",
     "start_time": "2020-05-04T16:16:33.285158Z"
    }
   },
   "outputs": [],
   "source": [
    "train_file = r'C:\\datasets\\google-landmarks\\train\\train.csv'\n",
    "test_file = r'C:\\datasets\\google-landmarks\\test\\test.csv'\n",
    "index_file = r'C:\\datasets\\google-landmarks\\index\\index.csv'"
   ]
  },
  {
   "cell_type": "code",
   "execution_count": 2,
   "metadata": {
    "ExecuteTime": {
     "end_time": "2020-05-04T16:16:44.219808Z",
     "start_time": "2020-05-04T16:16:33.292061Z"
    }
   },
   "outputs": [],
   "source": [
    "import pandas as pd"
   ]
  },
  {
   "cell_type": "code",
   "execution_count": 3,
   "metadata": {
    "ExecuteTime": {
     "end_time": "2020-05-04T16:16:55.150255Z",
     "start_time": "2020-05-04T16:16:44.222439Z"
    }
   },
   "outputs": [],
   "source": [
    "train_df = pd.read_csv(train_file)\n",
    "test_df = pd.read_csv(test_file)\n",
    "index_df = pd.read_csv(index_file)"
   ]
  },
  {
   "cell_type": "code",
   "execution_count": 4,
   "metadata": {
    "ExecuteTime": {
     "end_time": "2020-05-04T16:16:55.198264Z",
     "start_time": "2020-05-04T16:16:55.152244Z"
    }
   },
   "outputs": [
    {
     "data": {
      "text/html": [
       "<div>\n",
       "<style scoped>\n",
       "    .dataframe tbody tr th:only-of-type {\n",
       "        vertical-align: middle;\n",
       "    }\n",
       "\n",
       "    .dataframe tbody tr th {\n",
       "        vertical-align: top;\n",
       "    }\n",
       "\n",
       "    .dataframe thead th {\n",
       "        text-align: right;\n",
       "    }\n",
       "</style>\n",
       "<table border=\"1\" class=\"dataframe\">\n",
       "  <thead>\n",
       "    <tr style=\"text-align: right;\">\n",
       "      <th></th>\n",
       "      <th>id</th>\n",
       "      <th>url</th>\n",
       "      <th>landmark_id</th>\n",
       "    </tr>\n",
       "  </thead>\n",
       "  <tbody>\n",
       "    <tr>\n",
       "      <th>0</th>\n",
       "      <td>6e158a47eb2ca3f6</td>\n",
       "      <td>https://upload.wikimedia.org/wikipedia/commons...</td>\n",
       "      <td>142820</td>\n",
       "    </tr>\n",
       "    <tr>\n",
       "      <th>1</th>\n",
       "      <td>202cd79556f30760</td>\n",
       "      <td>http://upload.wikimedia.org/wikipedia/commons/...</td>\n",
       "      <td>104169</td>\n",
       "    </tr>\n",
       "    <tr>\n",
       "      <th>2</th>\n",
       "      <td>3ad87684c99c06e1</td>\n",
       "      <td>http://upload.wikimedia.org/wikipedia/commons/...</td>\n",
       "      <td>37914</td>\n",
       "    </tr>\n",
       "    <tr>\n",
       "      <th>3</th>\n",
       "      <td>e7f70e9c61e66af3</td>\n",
       "      <td>https://upload.wikimedia.org/wikipedia/commons...</td>\n",
       "      <td>102140</td>\n",
       "    </tr>\n",
       "    <tr>\n",
       "      <th>4</th>\n",
       "      <td>4072182eddd0100e</td>\n",
       "      <td>https://upload.wikimedia.org/wikipedia/commons...</td>\n",
       "      <td>2474</td>\n",
       "    </tr>\n",
       "  </tbody>\n",
       "</table>\n",
       "</div>"
      ],
      "text/plain": [
       "                 id                                                url  \\\n",
       "0  6e158a47eb2ca3f6  https://upload.wikimedia.org/wikipedia/commons...   \n",
       "1  202cd79556f30760  http://upload.wikimedia.org/wikipedia/commons/...   \n",
       "2  3ad87684c99c06e1  http://upload.wikimedia.org/wikipedia/commons/...   \n",
       "3  e7f70e9c61e66af3  https://upload.wikimedia.org/wikipedia/commons...   \n",
       "4  4072182eddd0100e  https://upload.wikimedia.org/wikipedia/commons...   \n",
       "\n",
       "   landmark_id  \n",
       "0       142820  \n",
       "1       104169  \n",
       "2        37914  \n",
       "3       102140  \n",
       "4         2474  "
      ]
     },
     "execution_count": 4,
     "metadata": {},
     "output_type": "execute_result"
    }
   ],
   "source": [
    "train_df.head() "
   ]
  },
  {
   "cell_type": "code",
   "execution_count": 5,
   "metadata": {
    "ExecuteTime": {
     "end_time": "2020-05-04T16:16:55.975821Z",
     "start_time": "2020-05-04T16:16:55.200249Z"
    }
   },
   "outputs": [
    {
     "data": {
      "text/plain": [
       "203094"
      ]
     },
     "execution_count": 5,
     "metadata": {},
     "output_type": "execute_result"
    }
   ],
   "source": [
    "train_ids = set(train_df['landmark_id'])\n",
    "\n",
    "len(train_ids)"
   ]
  },
  {
   "cell_type": "code",
   "execution_count": 6,
   "metadata": {
    "ExecuteTime": {
     "end_time": "2020-05-04T16:16:56.147531Z",
     "start_time": "2020-05-04T16:16:55.978967Z"
    },
    "scrolled": true
   },
   "outputs": [
    {
     "data": {
      "text/plain": [
       "138982    10247\n",
       "62798      4333\n",
       "177870     3327\n",
       "176528     3243\n",
       "192931     2627\n",
       "Name: landmark_id, dtype: int64"
      ]
     },
     "execution_count": 6,
     "metadata": {},
     "output_type": "execute_result"
    }
   ],
   "source": [
    "train_counts = train_df['landmark_id'].value_counts()\n",
    "    \n",
    "train_counts.head()"
   ]
  },
  {
   "cell_type": "code",
   "execution_count": 7,
   "metadata": {
    "ExecuteTime": {
     "end_time": "2020-05-04T16:16:56.156517Z",
     "start_time": "2020-05-04T16:16:56.149523Z"
    }
   },
   "outputs": [
    {
     "data": {
      "text/plain": [
       "134828    1\n",
       "139519    1\n",
       "24520     1\n",
       "17242     1\n",
       "133954    1\n",
       "Name: landmark_id, dtype: int64"
      ]
     },
     "execution_count": 7,
     "metadata": {},
     "output_type": "execute_result"
    }
   ],
   "source": [
    "train_counts.tail()"
   ]
  },
  {
   "cell_type": "code",
   "execution_count": 8,
   "metadata": {
    "ExecuteTime": {
     "end_time": "2020-05-04T16:16:56.173474Z",
     "start_time": "2020-05-04T16:16:56.160512Z"
    }
   },
   "outputs": [
    {
     "data": {
      "text/plain": [
       "1     18894\n",
       "2     17737\n",
       "3     15804\n",
       "4     13526\n",
       "5     11402\n",
       "6      9976\n",
       "7      8759\n",
       "8      7654\n",
       "9      6602\n",
       "10     5936\n",
       "11     5450\n",
       "12     5014\n",
       "13     4424\n",
       "14     3869\n",
       "15     3629\n",
       "16     3378\n",
       "17     3089\n",
       "18     2775\n",
       "19     2592\n",
       "20     2415\n",
       "21     2261\n",
       "22     2052\n",
       "23     1901\n",
       "24     1888\n",
       "25     1675\n",
       "Name: landmark_id, dtype: int64"
      ]
     },
     "execution_count": 8,
     "metadata": {},
     "output_type": "execute_result"
    }
   ],
   "source": [
    "number_of_samples_stat = train_counts.value_counts()\n",
    "number_of_samples_stat.head(25)"
   ]
  },
  {
   "cell_type": "code",
   "execution_count": 9,
   "metadata": {
    "ExecuteTime": {
     "end_time": "2020-05-04T16:16:56.195641Z",
     "start_time": "2020-05-04T16:16:56.175454Z"
    }
   },
   "outputs": [
    {
     "data": {
      "text/plain": [
       "17878"
      ]
     },
     "execution_count": 9,
     "metadata": {},
     "output_type": "execute_result"
    }
   ],
   "source": [
    "MAX_SAMPLES = 20\n",
    "MIN_SAMPLES = 15\n",
    "\n",
    "filtered_ids = list(train_counts[(train_counts <= MAX_SAMPLES) & (train_counts >= MIN_SAMPLES)].index)\n",
    "len(filtered_ids)"
   ]
  },
  {
   "cell_type": "code",
   "execution_count": 10,
   "metadata": {
    "ExecuteTime": {
     "end_time": "2020-05-04T16:16:56.204749Z",
     "start_time": "2020-05-04T16:16:56.198638Z"
    }
   },
   "outputs": [
    {
     "data": {
      "text/plain": [
       "1000"
      ]
     },
     "execution_count": 10,
     "metadata": {},
     "output_type": "execute_result"
    }
   ],
   "source": [
    "import random\n",
    "\n",
    "random.seed(282)\n",
    "\n",
    "SELECTED_CLASSES_NUM = 1 * (10 ** 3)\n",
    "\n",
    "selected_ids = set(random.sample(filtered_ids, SELECTED_CLASSES_NUM))\n",
    "\n",
    "len(selected_ids)"
   ]
  },
  {
   "cell_type": "code",
   "execution_count": 11,
   "metadata": {
    "ExecuteTime": {
     "end_time": "2020-05-04T16:16:57.105668Z",
     "start_time": "2020-05-04T16:16:56.206635Z"
    }
   },
   "outputs": [
    {
     "data": {
      "text/plain": [
       "17215"
      ]
     },
     "execution_count": 11,
     "metadata": {},
     "output_type": "execute_result"
    }
   ],
   "source": [
    "filtered_train_df = train_df[train_df['landmark_id'].isin(selected_ids)]\n",
    "\n",
    "len(filtered_train_df)"
   ]
  },
  {
   "cell_type": "code",
   "execution_count": 12,
   "metadata": {
    "ExecuteTime": {
     "end_time": "2020-05-04T16:16:57.116861Z",
     "start_time": "2020-05-04T16:16:57.107635Z"
    }
   },
   "outputs": [
    {
     "data": {
      "text/html": [
       "<div>\n",
       "<style scoped>\n",
       "    .dataframe tbody tr th:only-of-type {\n",
       "        vertical-align: middle;\n",
       "    }\n",
       "\n",
       "    .dataframe tbody tr th {\n",
       "        vertical-align: top;\n",
       "    }\n",
       "\n",
       "    .dataframe thead th {\n",
       "        text-align: right;\n",
       "    }\n",
       "</style>\n",
       "<table border=\"1\" class=\"dataframe\">\n",
       "  <thead>\n",
       "    <tr style=\"text-align: right;\">\n",
       "      <th></th>\n",
       "      <th>id</th>\n",
       "      <th>url</th>\n",
       "      <th>landmark_id</th>\n",
       "    </tr>\n",
       "  </thead>\n",
       "  <tbody>\n",
       "    <tr>\n",
       "      <th>81</th>\n",
       "      <td>6cbd63dba037b85b</td>\n",
       "      <td>https://upload.wikimedia.org/wikipedia/commons...</td>\n",
       "      <td>155094</td>\n",
       "    </tr>\n",
       "    <tr>\n",
       "      <th>667</th>\n",
       "      <td>c28fe351bd21bbb5</td>\n",
       "      <td>https://upload.wikimedia.org/wikipedia/commons...</td>\n",
       "      <td>111041</td>\n",
       "    </tr>\n",
       "    <tr>\n",
       "      <th>699</th>\n",
       "      <td>e52729c5735c10cd</td>\n",
       "      <td>https://upload.wikimedia.org/wikipedia/commons...</td>\n",
       "      <td>190889</td>\n",
       "    </tr>\n",
       "    <tr>\n",
       "      <th>966</th>\n",
       "      <td>914f5812496e9c42</td>\n",
       "      <td>http://upload.wikimedia.org/wikipedia/commons/...</td>\n",
       "      <td>193361</td>\n",
       "    </tr>\n",
       "    <tr>\n",
       "      <th>1037</th>\n",
       "      <td>5875278c381dcb26</td>\n",
       "      <td>https://upload.wikimedia.org/wikipedia/commons...</td>\n",
       "      <td>68381</td>\n",
       "    </tr>\n",
       "  </tbody>\n",
       "</table>\n",
       "</div>"
      ],
      "text/plain": [
       "                    id                                                url  \\\n",
       "81    6cbd63dba037b85b  https://upload.wikimedia.org/wikipedia/commons...   \n",
       "667   c28fe351bd21bbb5  https://upload.wikimedia.org/wikipedia/commons...   \n",
       "699   e52729c5735c10cd  https://upload.wikimedia.org/wikipedia/commons...   \n",
       "966   914f5812496e9c42  http://upload.wikimedia.org/wikipedia/commons/...   \n",
       "1037  5875278c381dcb26  https://upload.wikimedia.org/wikipedia/commons...   \n",
       "\n",
       "      landmark_id  \n",
       "81         155094  \n",
       "667        111041  \n",
       "699        190889  \n",
       "966        193361  \n",
       "1037        68381  "
      ]
     },
     "execution_count": 12,
     "metadata": {},
     "output_type": "execute_result"
    }
   ],
   "source": [
    "filtered_train_df.head()"
   ]
  },
  {
   "cell_type": "code",
   "execution_count": 13,
   "metadata": {
    "ExecuteTime": {
     "end_time": "2020-05-04T16:16:57.227670Z",
     "start_time": "2020-05-04T16:16:57.120083Z"
    }
   },
   "outputs": [],
   "source": [
    "FILTERED_TRAIN_FILE = r'C:\\datasets\\google-landmarks\\train\\filtered_train_2.csv'\n",
    "\n",
    "filtered_train_df.to_csv(FILTERED_TRAIN_FILE, index=False)"
   ]
  }
 ],
 "metadata": {
  "kernelspec": {
   "display_name": "Python 3",
   "language": "python",
   "name": "python3"
  },
  "language_info": {
   "codemirror_mode": {
    "name": "ipython",
    "version": 3
   },
   "file_extension": ".py",
   "mimetype": "text/x-python",
   "name": "python",
   "nbconvert_exporter": "python",
   "pygments_lexer": "ipython3",
   "version": "3.7.3"
  },
  "varInspector": {
   "cols": {
    "lenName": 16,
    "lenType": 16,
    "lenVar": 40
   },
   "kernels_config": {
    "python": {
     "delete_cmd_postfix": "",
     "delete_cmd_prefix": "del ",
     "library": "var_list.py",
     "varRefreshCmd": "print(var_dic_list())"
    },
    "r": {
     "delete_cmd_postfix": ") ",
     "delete_cmd_prefix": "rm(",
     "library": "var_list.r",
     "varRefreshCmd": "cat(var_dic_list()) "
    }
   },
   "types_to_exclude": [
    "module",
    "function",
    "builtin_function_or_method",
    "instance",
    "_Feature"
   ],
   "window_display": false
  }
 },
 "nbformat": 4,
 "nbformat_minor": 2
}
