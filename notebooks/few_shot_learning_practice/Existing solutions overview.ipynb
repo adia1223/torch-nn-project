{
 "cells": [
  {
   "cell_type": "markdown",
   "metadata": {},
   "source": [
    "# 1) Transductive Few-shot Learning with Meta-Learned Confidence\n",
    "\n",
    "Усредненные векторы признаков support set сдвигаем к векторам из query set с коэффициентами \"уверенности\"."
   ]
  },
  {
   "cell_type": "markdown",
   "metadata": {},
   "source": [
    "# 2) SELF-SUPERVISED LEARNING FOR FEW-SHOT IMAGE CLASSIFICATION\n",
    "\n",
    "Тренируем сверточную сеть на неразмеченых данных (аугментируем изображения и стараемсяч получить похожие векторы), затем усредняем признаки и считаем расстояние."
   ]
  },
  {
   "cell_type": "markdown",
   "metadata": {},
   "source": [
    "# 3) Prototype Rectification for Few-Shot Learning\n",
    "\n",
    "Добавляем K наиболее точно классифицируемых объекта из support set в query set, добавляем к прототипам разницу между средними векторами support set и query set."
   ]
  },
  {
   "cell_type": "markdown",
   "metadata": {},
   "source": [
    "# 4) EMPIRICAL BAYES TRANSDUCTIVE META-LEARNING WITH SYNTHETIC GRADIENTS\n",
    "\n"
   ]
  },
  {
   "cell_type": "markdown",
   "metadata": {},
   "source": [
    "# 5) Baby Steps Towards Few-Shot Learning with Multiple Semantics\n",
    "\n",
    "Анализируем текстовое описание классов."
   ]
  },
  {
   "cell_type": "markdown",
   "metadata": {},
   "source": [
    "# 6) Learning Embedding Adaptation for Few-Shot Learning\n",
    "\n"
   ]
  },
  {
   "cell_type": "markdown",
   "metadata": {},
   "source": [
    "# 7) Charting the Right Manifold: Manifold Mixup for Few-shot Learning\n",
    "\n",
    "Добавляем manifold mixup (при \"смешивании\" признаков на одном слое выход тоже должен получиться \"смешанный\"), так же добавляем задачу определения поворота изображения"
   ]
  }
 ],
 "metadata": {
  "kernelspec": {
   "display_name": "Python 3",
   "language": "python",
   "name": "python3"
  },
  "language_info": {
   "codemirror_mode": {
    "name": "ipython",
    "version": 3
   },
   "file_extension": ".py",
   "mimetype": "text/x-python",
   "name": "python",
   "nbconvert_exporter": "python",
   "pygments_lexer": "ipython3",
   "version": "3.7.3"
  },
  "varInspector": {
   "cols": {
    "lenName": 16,
    "lenType": 16,
    "lenVar": 40
   },
   "kernels_config": {
    "python": {
     "delete_cmd_postfix": "",
     "delete_cmd_prefix": "del ",
     "library": "var_list.py",
     "varRefreshCmd": "print(var_dic_list())"
    },
    "r": {
     "delete_cmd_postfix": ") ",
     "delete_cmd_prefix": "rm(",
     "library": "var_list.r",
     "varRefreshCmd": "cat(var_dic_list()) "
    }
   },
   "types_to_exclude": [
    "module",
    "function",
    "builtin_function_or_method",
    "instance",
    "_Feature"
   ],
   "window_display": false
  }
 },
 "nbformat": 4,
 "nbformat_minor": 2
}
